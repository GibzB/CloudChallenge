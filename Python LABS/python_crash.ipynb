{
 "cells": [
  {
   "cell_type": "markdown",
   "metadata": {},
   "source": [
    "## List and dictionary comprehensions"
   ]
  },
  {
   "cell_type": "markdown",
   "metadata": {},
   "source": [
    "### Get the square of the odd numbers"
   ]
  },
  {
   "cell_type": "code",
   "execution_count": null,
   "metadata": {},
   "outputs": [],
   "source": [
    "X = [1, 2, 3, 4, 5, 6, 7]\n",
    "\n",
    "new_X = []\n",
    "for x in X:\n",
    "    is_odd = ((x % 2) == 0)\n",
    "    if is_odd:\n",
    "        new_X.append(x ** 2)\n",
    "print(new_X)"
   ]
  },
  {
   "cell_type": "markdown",
   "metadata": {},
   "source": [
    "### for-loop"
   ]
  },
  {
   "cell_type": "code",
   "execution_count": null,
   "metadata": {},
   "outputs": [],
   "source": [
    "### Get the square of every number\n",
    "X = [1, 2, 3, 4]\n",
    "\n",
    "new_X = []\n",
    "for x in X:\n",
    "    new_X.append(x ** 2)\n",
    "print(new_X)"
   ]
  },
  {
   "cell_type": "markdown",
   "metadata": {},
   "source": [
    "### Get only the odd numbers"
   ]
  },
  {
   "cell_type": "code",
   "execution_count": null,
   "metadata": {},
   "outputs": [],
   "source": [
    "X = [1, 2, 3, 4]\n",
    "\n",
    "new_X = []\n",
    "for x in X:\n",
    "    is_odd = ((x % 2) == 0)\n",
    "    if is_odd:\n",
    "        new_X.append(x)\n",
    "print(new_X)"
   ]
  },
  {
   "cell_type": "markdown",
   "metadata": {},
   "source": [
    "## String Reference Guide\n",
    "In Python, there are a lot of things you can do with strings. In this guide, you’ll find the most common string operations and string methods.\n",
    "\n",
    "### String operations\n",
    "len(string) - Returns the length of the string\n",
    "\n",
    "for character in string - Iterates over each character in the string\n",
    "\n",
    "if substring in string - Checks whether the substring is part of the string\n",
    "\n",
    "string[i] - Accesses the character at index i of the string, starting at zero\n",
    "\n",
    "string[i:j] - Accesses the substring starting at index i, ending at index j minus 1. If i is omitted, its value defaults to 0. If j is omitted, the value will default to len(string).\n",
    "\n",
    "String methods\n",
    "string.lower() - Returns a copy of the string with all lowercase characters\n",
    "\n",
    "string.upper() - Returns a copy of the string with all uppercase characters\n",
    "\n",
    "string.lstrip() - Returns a copy of the string with the left-side whitespace removed\n",
    "\n",
    "string.rstrip() - Returns a copy of the string with the right-side whitespace removed\n",
    "\n",
    "string.strip() - Returns a copy of the string with both the left and right-side whitespace removed\n",
    "\n",
    "string.count(substring) - Returns the number of times substring is present in the string\n",
    "\n",
    "string.isnumeric() - Returns True if there are only numeric characters in the string. If not, returns False.\n",
    "\n",
    "string.isalpha() - Returns True if there are only alphabetic characters in the string. If not, returns False.\n",
    "\n",
    "string.split() - Returns a list of substrings that were separated by whitespace (whitespace can be a space, tab, or new line)\n",
    "\n",
    "string.split(delimiter) - Returns a list of substrings that were separated by whitespace or a delimiter\n",
    "\n",
    "string.replace(old, new) - Returns a new string where all occurrences of old have been replaced by new.\n",
    "\n",
    "delimiter.join(list of strings) - Returns a new string with all the strings joined by the delimiter "
   ]
  },
  {
   "cell_type": "markdown",
   "metadata": {},
   "source": [
    "## Using the format() method\n",
    "The format method returns a copy of the string where the {} placeholders have been replaced with the values of the variables. These variables are converted to strings if they weren't strings already. Empty placeholders are replaced by the variables passed to format in the same order."
   ]
  },
  {
   "cell_type": "code",
   "execution_count": null,
   "metadata": {},
   "outputs": [],
   "source": [
    "# \"base string with {} placeholders\".format(variables)\n",
    "\n",
    "example = \"format() method\"\n",
    "\n",
    "formatted_string = \"this is an example of using the {} on a string\".format(example)\n",
    "\n",
    "print(formatted_string)\n",
    "\n",
    "\"\"\"Outputs: this is an example of using the format() method on a string\n",
    "\"\"\""
   ]
  },
  {
   "cell_type": "markdown",
   "metadata": {},
   "source": [
    "If the placeholders indicate a number, they’re replaced by the variable corresponding to that order (starting at zero)."
   ]
  },
  {
   "cell_type": "code",
   "execution_count": null,
   "metadata": {},
   "outputs": [],
   "source": [
    "# \"{0} {1}\".format(first, second)\n",
    "\n",
    "first = \"apple\"\n",
    "second = \"banana\"\n",
    "third = \"carrot\"\n",
    "\n",
    "formatted_string = \"{0} {2} {1}\".format(first, second, third)\n",
    "\n",
    "print(formatted_string)\n",
    "\n",
    "\"\"\"Outputs: apple carrot banana\n",
    "\"\"\""
   ]
  },
  {
   "cell_type": "markdown",
   "metadata": {},
   "source": [
    "If the placeholders indicate a field name, they’re replaced by the variable corresponding to that field name. This means that parameters to format need to be passed indicating the field name."
   ]
  },
  {
   "cell_type": "code",
   "execution_count": null,
   "metadata": {},
   "outputs": [],
   "source": [
    "# \"{var1} {var2}\".format(var1=value1, var2=value2)\n",
    "\n",
    "\"{:exp1} {:exp2}\".format(value1, value2)"
   ]
  },
  {
   "cell_type": "markdown",
   "metadata": {},
   "source": [
    "If the placeholders include a colon, what comes after the colon is a formatting expression. See below for the expression reference."
   ]
  },
  {
   "cell_type": "code",
   "execution_count": null,
   "metadata": {},
   "outputs": [],
   "source": [
    "# {:d} integer value\n",
    "'{:d}'.format(10.5)  == '10'"
   ]
  }
 ],
 "metadata": {
  "kernelspec": {
   "display_name": "Python 3",
   "language": "python",
   "name": "python3"
  },
  "language_info": {
   "codemirror_mode": {
    "name": "ipython",
    "version": 3
   },
   "file_extension": ".py",
   "mimetype": "text/x-python",
   "name": "python",
   "nbconvert_exporter": "python",
   "pygments_lexer": "ipython3",
   "version": "3.0.0"
  }
 },
 "nbformat": 4,
 "nbformat_minor": 2
}
